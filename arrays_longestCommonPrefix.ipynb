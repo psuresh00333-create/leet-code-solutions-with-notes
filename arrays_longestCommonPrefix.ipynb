{
  "nbformat": 4,
  "nbformat_minor": 0,
  "metadata": {
    "colab": {
      "provenance": [],
      "authorship_tag": "ABX9TyO/v6QkMReDiTQlposkqXjo",
      "include_colab_link": true
    },
    "kernelspec": {
      "name": "python3",
      "display_name": "Python 3"
    },
    "language_info": {
      "name": "python"
    }
  },
  "cells": [
    {
      "cell_type": "markdown",
      "metadata": {
        "id": "view-in-github",
        "colab_type": "text"
      },
      "source": [
        "<a href=\"https://colab.research.google.com/github/psuresh00333-create/leet-code-solutions-with-notes/blob/main/arrays_longestCommonPrefix.ipynb\" target=\"_parent\"><img src=\"https://colab.research.google.com/assets/colab-badge.svg\" alt=\"Open In Colab\"/></a>"
      ]
    },
    {
      "cell_type": "code",
      "execution_count": 1,
      "metadata": {
        "colab": {
          "base_uri": "https://localhost:8080/"
        },
        "id": "sx_b75CYfCnD",
        "outputId": "c9389b69-892c-4791-aed5-b3cf3d34b37c"
      },
      "outputs": [
        {
          "output_type": "stream",
          "name": "stdout",
          "text": [
            "hello\n"
          ]
        }
      ],
      "source": [
        "class Solution(object):\n",
        "    def longestCommonPrefix(self,strs):\n",
        "      if not strs:\n",
        "        return \"\"\n",
        "      prefix=strs[0]\n",
        "      for s in strs[1: ]:\n",
        "        while not s.startswith(prefix):\n",
        "          prefix=prefix[ :-1]\n",
        "          if prefix==\"\":\n",
        "            return \"\"\n",
        "      return prefix"
      ]
    }
  ]
}